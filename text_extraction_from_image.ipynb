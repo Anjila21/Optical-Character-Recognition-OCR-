{
 "cells": [
  {
   "cell_type": "code",
   "execution_count": 1,
   "id": "3f3e0b32",
   "metadata": {},
   "outputs": [],
   "source": [
    "import pytesseract\n",
    "pytesseract.pytesseract.tesseract_cmd = 'C:\\\\Program Files\\\\Tesseract-OCR\\\\tesseract.exe'"
   ]
  },
  {
   "cell_type": "code",
   "execution_count": 2,
   "id": "a900288d",
   "metadata": {},
   "outputs": [],
   "source": [
    "import cv2"
   ]
  },
  {
   "cell_type": "code",
   "execution_count": 13,
   "id": "f82543f4",
   "metadata": {},
   "outputs": [],
   "source": [
    "img = cv2.imread(\"C:\\\\Users\\\\Dell\\\\Desktop\\\\Anjila\\\\anjila_internship\\\\OCR\\\\ocr.png\")\n",
    "cv2.imshow('image',img)\n",
    "cv2.waitKey(0)\n",
    "cv2.destroyAllWindows()"
   ]
  },
  {
   "cell_type": "code",
   "execution_count": 14,
   "id": "881e8686",
   "metadata": {},
   "outputs": [
    {
     "name": "stdout",
     "output_type": "stream",
     "text": [
      "| OCR (optical character recognition) |\n",
      "\n",
      "—\n",
      "\n",
      "| Online-OCR | | Offline~-OCR. |\n",
      "\n",
      "a\n",
      "\n",
      "Printed Handwritten character\n",
      "text recognition recognition (HCR)\n",
      "\n",
      "—_™\n",
      "\n",
      "Hand printed Cursive or touched\n",
      "characters characters\n",
      "\n",
      "\n"
     ]
    }
   ],
   "source": [
    "img =cv2.imread(\"C:\\\\Users\\\\Dell\\\\Desktop\\\\Anjila\\\\anjila_internship\\\\OCR\\\\ocr.png\")\n",
    "text = pytesseract.image_to_string(img)\n",
    "print(text)"
   ]
  },
  {
   "cell_type": "code",
   "execution_count": null,
   "id": "6d6d8d1e",
   "metadata": {},
   "outputs": [],
   "source": []
  }
 ],
 "metadata": {
  "kernelspec": {
   "display_name": "Python 3 (ipykernel)",
   "language": "python",
   "name": "python3"
  },
  "language_info": {
   "codemirror_mode": {
    "name": "ipython",
    "version": 3
   },
   "file_extension": ".py",
   "mimetype": "text/x-python",
   "name": "python",
   "nbconvert_exporter": "python",
   "pygments_lexer": "ipython3",
   "version": "3.11.4"
  }
 },
 "nbformat": 4,
 "nbformat_minor": 5
}
